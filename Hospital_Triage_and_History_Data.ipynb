{
  "nbformat": 4,
  "nbformat_minor": 0,
  "metadata": {
    "colab": {
      "name": "Hospital Triage and History Data 4 (Feature-selection) ",
      "provenance": [],
      "collapsed_sections": []
    },
    "kernelspec": {
      "name": "python3",
      "display_name": "Python 3"
    },
    "language_info": {
      "name": "python"
    }
  },
  "cells": [
    {
      "cell_type": "code",
      "execution_count": null,
      "metadata": {
        "id": "AqafuT68NmNl"
      },
      "outputs": [],
      "source": [
        "from google.colab import drive\n",
        "import pandas as pd  "
      ]
    },
    {
      "cell_type": "code",
      "source": [
        "drive.mount('/content/gdrive')\n",
        "!touch \"/content/gdrive/MyDrive/files\""
      ],
      "metadata": {
        "colab": {
          "base_uri": "https://localhost:8080/"
        },
        "id": "xzS4Z9RtNnfM",
        "outputId": "1ffc5996-24db-44a1-cddb-5141f45127ef"
      },
      "execution_count": null,
      "outputs": [
        {
          "output_type": "stream",
          "name": "stdout",
          "text": [
            "Mounted at /content/gdrive\n"
          ]
        }
      ]
    },
    {
      "cell_type": "code",
      "source": [
        "data=pd.read_csv(\"/content/gdrive/MyDrive/test/dataa.csv\")\n",
        "data = data.drop(['Unnamed: 0'],axis=1)\n",
        "data.head()"
      ],
      "metadata": {
        "colab": {
          "base_uri": "https://localhost:8080/",
          "height": 560
        },
        "id": "mILbFPxoNnmS",
        "outputId": "6441c46d-da72-44e1-8460-f29f619e301c"
      },
      "execution_count": null,
      "outputs": [
        {
          "output_type": "execute_result",
          "data": {
            "text/plain": [
              "   esi   age  gender           ethnicity  \\\n",
              "0  4.0  40.0    Male  Hispanic or Latino   \n",
              "1  4.0  66.0    Male  Hispanic or Latino   \n",
              "2  2.0  66.0    Male  Hispanic or Latino   \n",
              "3  2.0  66.0    Male  Hispanic or Latino   \n",
              "4  3.0  84.0  Female  Hispanic or Latino   \n",
              "\n",
              "                                        race     lang     religion  \\\n",
              "0                         White or Caucasian  English         None   \n",
              "1  Native Hawaiian or Other Pacific Islander  English  Pentecostal   \n",
              "2  Native Hawaiian or Other Pacific Islander  English  Pentecostal   \n",
              "3  Native Hawaiian or Other Pacific Islander  English  Pentecostal   \n",
              "4                                      Other    Other  Pentecostal   \n",
              "\n",
              "  maritalstatus  employstatus insurance_status  ... meds_musclerelaxants  \\\n",
              "0        Single     Full Time            Other  ...                    0   \n",
              "1       Married  Not Employed       Commercial  ...                    0   \n",
              "2       Married  Not Employed       Commercial  ...                    0   \n",
              "3       Married  Not Employed       Commercial  ...                    0   \n",
              "4       Widowed       Retired         Medicare  ...                    0   \n",
              "\n",
              "  meds_pre-natalvitamins  meds_psychotherapeuticdrugs  \\\n",
              "0                      0                            0   \n",
              "1                      0                            0   \n",
              "2                      0                            0   \n",
              "3                      0                            0   \n",
              "4                      0                            0   \n",
              "\n",
              "   meds_sedative/hypnotics  meds_skinpreps  meds_smokingdeterrents  \\\n",
              "0                        0               0                       0   \n",
              "1                        0               0                       0   \n",
              "2                        0               0                       0   \n",
              "3                        0               0                       0   \n",
              "4                        1               0                       0   \n",
              "\n",
              "   meds_thyroidpreps  meds_unclassifieddrugproducts  meds_vitamins  \\\n",
              "0                  0                              0              0   \n",
              "1                  0                              0              0   \n",
              "2                  0                              0              0   \n",
              "3                  0                              0              0   \n",
              "4                  0                              0              1   \n",
              "\n",
              "   n_surgeries  \n",
              "0            1  \n",
              "1            2  \n",
              "2            2  \n",
              "3            2  \n",
              "4            5  \n",
              "\n",
              "[5 rows x 63 columns]"
            ],
            "text/html": [
              "\n",
              "  <div id=\"df-751a23a9-2ef9-4e96-a82e-818cf75afd28\">\n",
              "    <div class=\"colab-df-container\">\n",
              "      <div>\n",
              "<style scoped>\n",
              "    .dataframe tbody tr th:only-of-type {\n",
              "        vertical-align: middle;\n",
              "    }\n",
              "\n",
              "    .dataframe tbody tr th {\n",
              "        vertical-align: top;\n",
              "    }\n",
              "\n",
              "    .dataframe thead th {\n",
              "        text-align: right;\n",
              "    }\n",
              "</style>\n",
              "<table border=\"1\" class=\"dataframe\">\n",
              "  <thead>\n",
              "    <tr style=\"text-align: right;\">\n",
              "      <th></th>\n",
              "      <th>esi</th>\n",
              "      <th>age</th>\n",
              "      <th>gender</th>\n",
              "      <th>ethnicity</th>\n",
              "      <th>race</th>\n",
              "      <th>lang</th>\n",
              "      <th>religion</th>\n",
              "      <th>maritalstatus</th>\n",
              "      <th>employstatus</th>\n",
              "      <th>insurance_status</th>\n",
              "      <th>...</th>\n",
              "      <th>meds_musclerelaxants</th>\n",
              "      <th>meds_pre-natalvitamins</th>\n",
              "      <th>meds_psychotherapeuticdrugs</th>\n",
              "      <th>meds_sedative/hypnotics</th>\n",
              "      <th>meds_skinpreps</th>\n",
              "      <th>meds_smokingdeterrents</th>\n",
              "      <th>meds_thyroidpreps</th>\n",
              "      <th>meds_unclassifieddrugproducts</th>\n",
              "      <th>meds_vitamins</th>\n",
              "      <th>n_surgeries</th>\n",
              "    </tr>\n",
              "  </thead>\n",
              "  <tbody>\n",
              "    <tr>\n",
              "      <th>0</th>\n",
              "      <td>4.0</td>\n",
              "      <td>40.0</td>\n",
              "      <td>Male</td>\n",
              "      <td>Hispanic or Latino</td>\n",
              "      <td>White or Caucasian</td>\n",
              "      <td>English</td>\n",
              "      <td>None</td>\n",
              "      <td>Single</td>\n",
              "      <td>Full Time</td>\n",
              "      <td>Other</td>\n",
              "      <td>...</td>\n",
              "      <td>0</td>\n",
              "      <td>0</td>\n",
              "      <td>0</td>\n",
              "      <td>0</td>\n",
              "      <td>0</td>\n",
              "      <td>0</td>\n",
              "      <td>0</td>\n",
              "      <td>0</td>\n",
              "      <td>0</td>\n",
              "      <td>1</td>\n",
              "    </tr>\n",
              "    <tr>\n",
              "      <th>1</th>\n",
              "      <td>4.0</td>\n",
              "      <td>66.0</td>\n",
              "      <td>Male</td>\n",
              "      <td>Hispanic or Latino</td>\n",
              "      <td>Native Hawaiian or Other Pacific Islander</td>\n",
              "      <td>English</td>\n",
              "      <td>Pentecostal</td>\n",
              "      <td>Married</td>\n",
              "      <td>Not Employed</td>\n",
              "      <td>Commercial</td>\n",
              "      <td>...</td>\n",
              "      <td>0</td>\n",
              "      <td>0</td>\n",
              "      <td>0</td>\n",
              "      <td>0</td>\n",
              "      <td>0</td>\n",
              "      <td>0</td>\n",
              "      <td>0</td>\n",
              "      <td>0</td>\n",
              "      <td>0</td>\n",
              "      <td>2</td>\n",
              "    </tr>\n",
              "    <tr>\n",
              "      <th>2</th>\n",
              "      <td>2.0</td>\n",
              "      <td>66.0</td>\n",
              "      <td>Male</td>\n",
              "      <td>Hispanic or Latino</td>\n",
              "      <td>Native Hawaiian or Other Pacific Islander</td>\n",
              "      <td>English</td>\n",
              "      <td>Pentecostal</td>\n",
              "      <td>Married</td>\n",
              "      <td>Not Employed</td>\n",
              "      <td>Commercial</td>\n",
              "      <td>...</td>\n",
              "      <td>0</td>\n",
              "      <td>0</td>\n",
              "      <td>0</td>\n",
              "      <td>0</td>\n",
              "      <td>0</td>\n",
              "      <td>0</td>\n",
              "      <td>0</td>\n",
              "      <td>0</td>\n",
              "      <td>0</td>\n",
              "      <td>2</td>\n",
              "    </tr>\n",
              "    <tr>\n",
              "      <th>3</th>\n",
              "      <td>2.0</td>\n",
              "      <td>66.0</td>\n",
              "      <td>Male</td>\n",
              "      <td>Hispanic or Latino</td>\n",
              "      <td>Native Hawaiian or Other Pacific Islander</td>\n",
              "      <td>English</td>\n",
              "      <td>Pentecostal</td>\n",
              "      <td>Married</td>\n",
              "      <td>Not Employed</td>\n",
              "      <td>Commercial</td>\n",
              "      <td>...</td>\n",
              "      <td>0</td>\n",
              "      <td>0</td>\n",
              "      <td>0</td>\n",
              "      <td>0</td>\n",
              "      <td>0</td>\n",
              "      <td>0</td>\n",
              "      <td>0</td>\n",
              "      <td>0</td>\n",
              "      <td>0</td>\n",
              "      <td>2</td>\n",
              "    </tr>\n",
              "    <tr>\n",
              "      <th>4</th>\n",
              "      <td>3.0</td>\n",
              "      <td>84.0</td>\n",
              "      <td>Female</td>\n",
              "      <td>Hispanic or Latino</td>\n",
              "      <td>Other</td>\n",
              "      <td>Other</td>\n",
              "      <td>Pentecostal</td>\n",
              "      <td>Widowed</td>\n",
              "      <td>Retired</td>\n",
              "      <td>Medicare</td>\n",
              "      <td>...</td>\n",
              "      <td>0</td>\n",
              "      <td>0</td>\n",
              "      <td>0</td>\n",
              "      <td>1</td>\n",
              "      <td>0</td>\n",
              "      <td>0</td>\n",
              "      <td>0</td>\n",
              "      <td>0</td>\n",
              "      <td>1</td>\n",
              "      <td>5</td>\n",
              "    </tr>\n",
              "  </tbody>\n",
              "</table>\n",
              "<p>5 rows × 63 columns</p>\n",
              "</div>\n",
              "      <button class=\"colab-df-convert\" onclick=\"convertToInteractive('df-751a23a9-2ef9-4e96-a82e-818cf75afd28')\"\n",
              "              title=\"Convert this dataframe to an interactive table.\"\n",
              "              style=\"display:none;\">\n",
              "        \n",
              "  <svg xmlns=\"http://www.w3.org/2000/svg\" height=\"24px\"viewBox=\"0 0 24 24\"\n",
              "       width=\"24px\">\n",
              "    <path d=\"M0 0h24v24H0V0z\" fill=\"none\"/>\n",
              "    <path d=\"M18.56 5.44l.94 2.06.94-2.06 2.06-.94-2.06-.94-.94-2.06-.94 2.06-2.06.94zm-11 1L8.5 8.5l.94-2.06 2.06-.94-2.06-.94L8.5 2.5l-.94 2.06-2.06.94zm10 10l.94 2.06.94-2.06 2.06-.94-2.06-.94-.94-2.06-.94 2.06-2.06.94z\"/><path d=\"M17.41 7.96l-1.37-1.37c-.4-.4-.92-.59-1.43-.59-.52 0-1.04.2-1.43.59L10.3 9.45l-7.72 7.72c-.78.78-.78 2.05 0 2.83L4 21.41c.39.39.9.59 1.41.59.51 0 1.02-.2 1.41-.59l7.78-7.78 2.81-2.81c.8-.78.8-2.07 0-2.86zM5.41 20L4 18.59l7.72-7.72 1.47 1.35L5.41 20z\"/>\n",
              "  </svg>\n",
              "      </button>\n",
              "      \n",
              "  <style>\n",
              "    .colab-df-container {\n",
              "      display:flex;\n",
              "      flex-wrap:wrap;\n",
              "      gap: 12px;\n",
              "    }\n",
              "\n",
              "    .colab-df-convert {\n",
              "      background-color: #E8F0FE;\n",
              "      border: none;\n",
              "      border-radius: 50%;\n",
              "      cursor: pointer;\n",
              "      display: none;\n",
              "      fill: #1967D2;\n",
              "      height: 32px;\n",
              "      padding: 0 0 0 0;\n",
              "      width: 32px;\n",
              "    }\n",
              "\n",
              "    .colab-df-convert:hover {\n",
              "      background-color: #E2EBFA;\n",
              "      box-shadow: 0px 1px 2px rgba(60, 64, 67, 0.3), 0px 1px 3px 1px rgba(60, 64, 67, 0.15);\n",
              "      fill: #174EA6;\n",
              "    }\n",
              "\n",
              "    [theme=dark] .colab-df-convert {\n",
              "      background-color: #3B4455;\n",
              "      fill: #D2E3FC;\n",
              "    }\n",
              "\n",
              "    [theme=dark] .colab-df-convert:hover {\n",
              "      background-color: #434B5C;\n",
              "      box-shadow: 0px 1px 3px 1px rgba(0, 0, 0, 0.15);\n",
              "      filter: drop-shadow(0px 1px 2px rgba(0, 0, 0, 0.3));\n",
              "      fill: #FFFFFF;\n",
              "    }\n",
              "  </style>\n",
              "\n",
              "      <script>\n",
              "        const buttonEl =\n",
              "          document.querySelector('#df-751a23a9-2ef9-4e96-a82e-818cf75afd28 button.colab-df-convert');\n",
              "        buttonEl.style.display =\n",
              "          google.colab.kernel.accessAllowed ? 'block' : 'none';\n",
              "\n",
              "        async function convertToInteractive(key) {\n",
              "          const element = document.querySelector('#df-751a23a9-2ef9-4e96-a82e-818cf75afd28');\n",
              "          const dataTable =\n",
              "            await google.colab.kernel.invokeFunction('convertToInteractive',\n",
              "                                                     [key], {});\n",
              "          if (!dataTable) return;\n",
              "\n",
              "          const docLinkHtml = 'Like what you see? Visit the ' +\n",
              "            '<a target=\"_blank\" href=https://colab.research.google.com/notebooks/data_table.ipynb>data table notebook</a>'\n",
              "            + ' to learn more about interactive tables.';\n",
              "          element.innerHTML = '';\n",
              "          dataTable['output_type'] = 'display_data';\n",
              "          await google.colab.output.renderOutput(dataTable, element);\n",
              "          const docLink = document.createElement('div');\n",
              "          docLink.innerHTML = docLinkHtml;\n",
              "          element.appendChild(docLink);\n",
              "        }\n",
              "      </script>\n",
              "    </div>\n",
              "  </div>\n",
              "  "
            ]
          },
          "metadata": {},
          "execution_count": 3
        }
      ]
    },
    {
      "cell_type": "code",
      "source": [
        "data = data.drop([\"race\",\"lang\",\"employstatus\",\"ethnicity\"], axis=1)"
      ],
      "metadata": {
        "id": "hdATRycTNqZd"
      },
      "execution_count": null,
      "outputs": []
    },
    {
      "cell_type": "code",
      "source": [
        "gender = {'Male': 0,'Female': 1}\n",
        "data['gender']=data['gender'].map(gender)\n",
        "\n",
        "\n",
        "religion= {'None':0, 'Pentecostal':1, 'Catholic':2, 'Protestant':3, 'Christian':4,\n",
        "       'Other':5, 'Unknown':6, 'Baptist':7, 'Methodist':8, 'Episcopal':9, 'Jewish':10,\n",
        "       'Muslim':11, \"Jehovah's Witness\":12}\n",
        "data['religion']=data['religion'].map(religion)\n",
        "\n",
        "maritalstatus= {'Single':0, 'Married':1, 'Widowed':2, 'Significant Other':3, 'Divorced':4,\n",
        "       'Legally Separated':5, 'Other':6, 'Unknown':7, 'Life Partner':8,\n",
        "       'Civil Union':9}\n",
        "data['maritalstatus']=data['maritalstatus'].map(maritalstatus)\n",
        "\n",
        "insurance_status= {'Other':0, 'Commercial':1, 'Medicare':2, 'Medicaid':3, 'Self pay':4}\n",
        "data['insurance_status']=data['insurance_status'].map(insurance_status)\n",
        "\n",
        "disposition= {'Discharge':0, 'Admit':1}\n",
        "data['disposition']=data['disposition'].map(disposition)\n",
        "\n",
        "previousdispo\t= {'No previous dispo':0, 'Discharge':1, 'Admit':2,\n",
        "       'Transfer to Another Facility':3, 'AMA':4, 'LWBS after Triage':5,\n",
        "       'Eloped':6, 'LWBS before Triage':7, 'Observation':8, 'Send to L&D':9}\n",
        "data['previousdispo']=data['previousdispo'].map(previousdispo)\n"
      ],
      "metadata": {
        "id": "KieFh0mLNsHe"
      },
      "execution_count": null,
      "outputs": []
    },
    {
      "cell_type": "code",
      "source": [
        "data = data.drop_duplicates()"
      ],
      "metadata": {
        "id": "Gj-gJcIMNsM9"
      },
      "execution_count": null,
      "outputs": []
    },
    {
      "cell_type": "code",
      "source": [
        "perc = 1\n",
        "min_count = int(((100-perc)/100)*data.shape[1] + 1)\n",
        "data = data.dropna( axis=0,thresh=min_count)"
      ],
      "metadata": {
        "id": "h5HctTbbNyNp"
      },
      "execution_count": null,
      "outputs": []
    },
    {
      "cell_type": "code",
      "source": [
        "X = data.drop(['disposition'],axis=1)\n",
        "y = data.disposition.values "
      ],
      "metadata": {
        "id": "1vaLzhi9NyQ3"
      },
      "execution_count": null,
      "outputs": []
    },
    {
      "cell_type": "code",
      "source": [
        "from sklearn.model_selection import train_test_split\n",
        "X_train, X_test, y_train, y_test = train_test_split(X,y,test_size = 0.2, random_state=123)"
      ],
      "metadata": {
        "id": "uqRjuhYlNyTJ"
      },
      "execution_count": null,
      "outputs": []
    },
    {
      "cell_type": "code",
      "source": [
        "import pandas as pd\n",
        "import numpy as np\n",
        "import matplotlib.pyplot as plt\n",
        "import seaborn as sns\n",
        "%matplotlib inline\n",
        "from sklearn.feature_selection import VarianceThreshold\n",
        "from sklearn.preprocessing import StandardScaler\n",
        "from sklearn.linear_model import LogisticRegression\n",
        "from sklearn.ensemble import RandomForestClassifier\n",
        "from sklearn.tree import DecisionTreeClassifier\n",
        "from sklearn.metrics import roc_auc_score"
      ],
      "metadata": {
        "id": "UUXYH9CSObLU"
      },
      "execution_count": null,
      "outputs": []
    },
    {
      "cell_type": "code",
      "source": [
        "X_train_original = X_train.copy()\n",
        "X_test_original = X_test.copy()"
      ],
      "metadata": {
        "id": "v4jvexXiOd5K"
      },
      "execution_count": null,
      "outputs": []
    },
    {
      "cell_type": "code",
      "source": [
        "# remove constant features\n",
        "constant_features = [\n",
        "    feat for feat in X_train.columns if X_train[feat].std() == 0\n",
        "]\n",
        "\n",
        "X_train.drop(labels=constant_features, axis=1, inplace=True)\n",
        "X_test.drop(labels=constant_features, axis=1, inplace=True)\n",
        "\n",
        "X_train.shape, X_test.shape"
      ],
      "metadata": {
        "colab": {
          "base_uri": "https://localhost:8080/"
        },
        "id": "URoDleQFO3jH",
        "outputId": "36fb9d07-f9fd-42ad-873f-3d3bee9f2c39"
      },
      "execution_count": null,
      "outputs": [
        {
          "output_type": "execute_result",
          "data": {
            "text/plain": [
              "((364846, 58), (91212, 58))"
            ]
          },
          "metadata": {},
          "execution_count": 15
        }
      ]
    },
    {
      "cell_type": "code",
      "source": [
        "# remove quasi-constant features\n",
        "# 0.1 indicates 99% of observations approximately\n",
        "sel = VarianceThreshold(threshold=0.01)  \n",
        "# fit finds the features with low variance\n",
        "sel.fit(X_train)  \n",
        "sum(sel.get_support()) "
      ],
      "metadata": {
        "colab": {
          "base_uri": "https://localhost:8080/"
        },
        "id": "SNfCs7pvO6fC",
        "outputId": "40243750-63d6-4d87-8edd-b9f841b95dc2"
      },
      "execution_count": null,
      "outputs": [
        {
          "output_type": "execute_result",
          "data": {
            "text/plain": [
              "43"
            ]
          },
          "metadata": {},
          "execution_count": 16
        }
      ]
    },
    {
      "cell_type": "code",
      "source": [
        "features_to_keep = X_train.columns[sel.get_support()]"
      ],
      "metadata": {
        "id": "2-DQDqjwPBcQ"
      },
      "execution_count": null,
      "outputs": []
    },
    {
      "cell_type": "code",
      "source": [
        "X_train = sel.transform(X_train)\n",
        "X_test = sel.transform(X_test)\n",
        "\n",
        "X_train.shape, X_test.shape"
      ],
      "metadata": {
        "colab": {
          "base_uri": "https://localhost:8080/"
        },
        "id": "lBnswBZDPDea",
        "outputId": "5dfea538-5e79-4f24-a665-53506db350c7"
      },
      "execution_count": null,
      "outputs": [
        {
          "output_type": "execute_result",
          "data": {
            "text/plain": [
              "((364846, 43), (91212, 43))"
            ]
          },
          "metadata": {},
          "execution_count": 18
        }
      ]
    },
    {
      "cell_type": "code",
      "source": [
        "X_train= pd.DataFrame(X_train)\n",
        "X_train.columns = features_to_keep\n",
        "X_test= pd.DataFrame(X_test)\n",
        "X_test.columns = features_to_keep"
      ],
      "metadata": {
        "id": "7F5ipkB1PGJ2"
      },
      "execution_count": null,
      "outputs": []
    },
    {
      "cell_type": "code",
      "source": [
        "duplicated_feat = []\n",
        "for i in range(0, len(X_train.columns)):\n",
        "    if i % 10 == 0:\n",
        "        print(i)\n",
        "\n",
        "    col_1 = X_train.columns[i]\n",
        "\n",
        "    for col_2 in X_train.columns[i + 1:]:\n",
        "        if X_train[col_1].equals(X_train[col_2]):\n",
        "            duplicated_feat.append(col_2)\n",
        "            \n",
        "len(duplicated_feat)"
      ],
      "metadata": {
        "colab": {
          "base_uri": "https://localhost:8080/"
        },
        "id": "W-TUVV7jPJH3",
        "outputId": "ab22cc74-1da0-4c0c-94a8-29de0d48a78c"
      },
      "execution_count": null,
      "outputs": [
        {
          "output_type": "stream",
          "name": "stdout",
          "text": [
            "0\n",
            "10\n",
            "20\n",
            "30\n",
            "40\n"
          ]
        },
        {
          "output_type": "execute_result",
          "data": {
            "text/plain": [
              "0"
            ]
          },
          "metadata": {},
          "execution_count": 20
        }
      ]
    },
    {
      "cell_type": "code",
      "source": [
        "# remove duplicated features\n",
        "X_train.drop(labels=duplicated_feat, axis=1, inplace=True)\n",
        "X_test.drop(labels=duplicated_feat, axis=1, inplace=True)\n",
        "\n",
        "X_train.shape, X_test.shape"
      ],
      "metadata": {
        "colab": {
          "base_uri": "https://localhost:8080/"
        },
        "id": "EvTTl24pPNqn",
        "outputId": "2415832b-e595-4ae0-ef87-93d31f84e613"
      },
      "execution_count": null,
      "outputs": [
        {
          "output_type": "execute_result",
          "data": {
            "text/plain": [
              "((364846, 43), (91212, 43))"
            ]
          },
          "metadata": {},
          "execution_count": 21
        }
      ]
    },
    {
      "cell_type": "code",
      "source": [
        "X_train_basic_filter = X_train.copy()\n",
        "X_test_basic_filter = X_test.copy()"
      ],
      "metadata": {
        "id": "yQXFcqdQPTXm"
      },
      "execution_count": null,
      "outputs": []
    },
    {
      "cell_type": "code",
      "source": [
        "roc_values = []\n",
        "for feature in X_train.columns:\n",
        "    clf = DecisionTreeClassifier()\n",
        "    clf.fit(X_train[feature].fillna(0).to_frame(), y_train)\n",
        "    y_scored = clf.predict_proba(X_test[feature].fillna(0).to_frame())\n",
        "    roc_values.append(roc_auc_score(y_test, y_scored[:, 1]))"
      ],
      "metadata": {
        "id": "d3r9wDXlPVWS"
      },
      "execution_count": null,
      "outputs": []
    },
    {
      "cell_type": "code",
      "source": [
        "roc_values = pd.Series(roc_values)\n",
        "roc_values.index = X_train.columns\n",
        "roc_values.sort_values(ascending=False).plot.bar(figsize=(20, 8))"
      ],
      "metadata": {
        "colab": {
          "base_uri": "https://localhost:8080/",
          "height": 764
        },
        "id": "bYt0ItzdPZ0x",
        "outputId": "1a772b04-306b-48b7-98d7-55e7a25a3e32"
      },
      "execution_count": null,
      "outputs": [
        {
          "output_type": "execute_result",
          "data": {
            "text/plain": [
              "<matplotlib.axes._subplots.AxesSubplot at 0x7f5db90d0350>"
            ]
          },
          "metadata": {},
          "execution_count": 24
        },
        {
          "output_type": "display_data",
          "data": {
            "text/plain": [
              "<Figure size 1440x576 with 1 Axes>"
            ],
            "image/png": "[encoded data removed]"
          },
          "metadata": {
            "needs_background": "light"
          }
        }
      ]
    },
    {
      "cell_type": "code",
      "source": [
        "# by removing features with univariate roc_auc == 0.5\n",
        "selected_feat = roc_values[roc_values>0.5]\n",
        "len(selected_feat), X_train.shape[1]"
      ],
      "metadata": {
        "colab": {
          "base_uri": "https://localhost:8080/"
        },
        "id": "kjaCTVDvPdcl",
        "outputId": "022010ac-1637-463b-f4a3-824281193d8f"
      },
      "execution_count": null,
      "outputs": [
        {
          "output_type": "execute_result",
          "data": {
            "text/plain": [
              "(43, 43)"
            ]
          },
          "metadata": {},
          "execution_count": 25
        }
      ]
    },
    {
      "cell_type": "code",
      "source": [
        "def correlation(dataset, threshold):\n",
        "    col_corr = set()  # Set of all the names of correlated columns\n",
        "    corr_matrix = dataset.corr()\n",
        "    for i in range(len(corr_matrix.columns)):\n",
        "        for j in range(i):\n",
        "            if abs(corr_matrix.iloc[i, j]) > threshold: # we are interested in absolute coeff value\n",
        "                colname = corr_matrix.columns[i]  # getting the name of column\n",
        "                col_corr.add(colname)\n",
        "    return col_corr\n",
        "\n",
        "corr_features = correlation(X_train, 0.8)\n",
        "print('correlated features: ', len(set(corr_features)) )"
      ],
      "metadata": {
        "colab": {
          "base_uri": "https://localhost:8080/"
        },
        "id": "93W7U9_MQYFa",
        "outputId": "7235506b-5175-4e7c-d1b8-b75a6e75b698"
      },
      "execution_count": null,
      "outputs": [
        {
          "output_type": "stream",
          "name": "stdout",
          "text": [
            "correlated features:  0\n"
          ]
        }
      ]
    },
    {
      "cell_type": "code",
      "source": [
        "X_train_corr = X_train.copy()\n",
        "X_test_corr = X_test.copy()"
      ],
      "metadata": {
        "id": "sM7I5gxnQYsx"
      },
      "execution_count": null,
      "outputs": []
    },
    {
      "cell_type": "code",
      "source": [
        "def run_randomForests(X_train, X_test, y_train, y_test):\n",
        "    rf = RandomForestClassifier(n_estimators=200, random_state=39, max_depth=4)\n",
        "    rf.fit(X_train, y_train)\n",
        "    print('Train set')\n",
        "    pred = rf.predict_proba(X_train)\n",
        "    print('Random Forests roc-auc: {}'.format(roc_auc_score(y_train, pred[:,1])))\n",
        "    print('Test set')\n",
        "    pred = rf.predict_proba(X_test)\n",
        "    print('Random Forests roc-auc: {}'.format(roc_auc_score(y_test, pred[:,1])))"
      ],
      "metadata": {
        "id": "zRXahbq2PnwS"
      },
      "execution_count": null,
      "outputs": []
    },
    {
      "cell_type": "code",
      "source": [
        "# original\n",
        "run_randomForests(X_train_original, X_test_original,y_train, y_test)"
      ],
      "metadata": {
        "colab": {
          "base_uri": "https://localhost:8080/"
        },
        "id": "h579D9JZPrZs",
        "outputId": "b4dfb187-1541-4675-ec7e-fcff92e9ca54"
      },
      "execution_count": null,
      "outputs": [
        {
          "output_type": "stream",
          "name": "stdout",
          "text": [
            "Train set\n",
            "Random Forests roc-auc: 0.8734120428698694\n",
            "Test set\n",
            "Random Forests roc-auc: 0.872817140139353\n"
          ]
        }
      ]
    },
    {
      "cell_type": "code",
      "source": [
        "run_randomForests(X_train_basic_filter,\n",
        "                  X_test_basic_filter,\n",
        "                  y_train, y_test)"
      ],
      "metadata": {
        "colab": {
          "base_uri": "https://localhost:8080/"
        },
        "id": "uvPcWPj-P61e",
        "outputId": "318732ae-8d66-4395-b97f-c564cfd4815a"
      },
      "execution_count": null,
      "outputs": [
        {
          "output_type": "stream",
          "name": "stdout",
          "text": [
            "Train set\n",
            "Random Forests roc-auc: 0.8765106867700307\n",
            "Test set\n",
            "Random Forests roc-auc: 0.8761214969941713\n"
          ]
        }
      ]
    },
    {
      "cell_type": "code",
      "source": [
        "# filter methods - univariate roc-auc\n",
        "run_randomForests(X_train[selected_feat.index],\n",
        "                  X_test_corr[selected_feat.index],\n",
        "                  y_train, y_test)"
      ],
      "metadata": {
        "colab": {
          "base_uri": "https://localhost:8080/"
        },
        "id": "7H90rX9iQDi3",
        "outputId": "74695c7e-de81-4d51-f17f-b7f9e630d8c4"
      },
      "execution_count": null,
      "outputs": [
        {
          "output_type": "stream",
          "name": "stdout",
          "text": [
            "Train set\n",
            "Random Forests roc-auc: 0.8765106867700307\n",
            "Test set\n",
            "Random Forests roc-auc: 0.8761214969941713\n"
          ]
        }
      ]
    },
    {
      "cell_type": "code",
      "source": [
        "def run_logistic(X_train, X_test, y_train, y_test):\n",
        "    # function to train and test the performance of logistic regression\n",
        "    logit = LogisticRegression(random_state=44)\n",
        "    logit.fit(X_train, y_train)\n",
        "    print('Train set')\n",
        "    pred = logit.predict_proba(X_train)\n",
        "    print('Logistic Regression roc-auc: {}'.format(roc_auc_score(y_train, pred[:,1])))\n",
        "    print('Test set')\n",
        "    pred = logit.predict_proba(X_test)\n",
        "    print('Logistic Regression roc-auc: {}'.format(roc_auc_score(y_test, pred[:,1])))"
      ],
      "metadata": {
        "id": "VGh8Pv70QmMx"
      },
      "execution_count": null,
      "outputs": []
    },
    {
      "cell_type": "code",
      "source": [
        "scaler = StandardScaler().fit(X_train_original)\n",
        "\n",
        "run_logistic(scaler.transform(X_train_original),\n",
        "             scaler.transform(X_test_original),\n",
        "                  y_train, y_test)"
      ],
      "metadata": {
        "colab": {
          "base_uri": "https://localhost:8080/"
        },
        "id": "MU_tdZWMQ2NM",
        "outputId": "d3fd73c2-4029-42e2-84c3-b8a466854817"
      },
      "execution_count": null,
      "outputs": [
        {
          "output_type": "stream",
          "name": "stdout",
          "text": [
            "Train set\n",
            "Logistic Regression roc-auc: 0.8887740715972269\n",
            "Test set\n",
            "Logistic Regression roc-auc: 0.8874893957471057\n"
          ]
        }
      ]
    },
    {
      "cell_type": "code",
      "source": [
        "scaler = StandardScaler().fit(X_train_basic_filter)\n",
        "\n",
        "run_logistic(scaler.transform(X_train_basic_filter),\n",
        "             scaler.transform(X_test_basic_filter),\n",
        "                  y_train, y_test)"
      ],
      "metadata": {
        "colab": {
          "base_uri": "https://localhost:8080/"
        },
        "id": "t5i4ERi4Q-Sy",
        "outputId": "a054c9aa-83e7-45c3-9434-905ab055c903"
      },
      "execution_count": null,
      "outputs": [
        {
          "output_type": "stream",
          "name": "stdout",
          "text": [
            "Train set\n",
            "Logistic Regression roc-auc: 0.888433181169729\n",
            "Test set\n",
            "Logistic Regression roc-auc: 0.8872412549998794\n"
          ]
        }
      ]
    },
    {
      "cell_type": "code",
      "source": [
        "scaler = StandardScaler().fit(X_train[selected_feat.index])\n",
        "\n",
        "run_logistic(scaler.transform(X_train[selected_feat.index]),\n",
        "             scaler.transform(X_test_corr[selected_feat.index]),\n",
        "                  y_train, y_test)"
      ],
      "metadata": {
        "colab": {
          "base_uri": "https://localhost:8080/"
        },
        "id": "QEhZ1MYgRH22",
        "outputId": "942f6e2f-f5ad-4221-c28a-6371996342ae"
      },
      "execution_count": null,
      "outputs": [
        {
          "output_type": "stream",
          "name": "stdout",
          "text": [
            "Train set\n",
            "Logistic Regression roc-auc: 0.888433181169729\n",
            "Test set\n",
            "Logistic Regression roc-auc: 0.8872412549998794\n"
          ]
        }
      ]
    },
    {
      "cell_type": "markdown",
      "source": [
        "Information Gain - Mutual Information\n"
      ],
      "metadata": {
        "id": "0ovEnu3iSLvF"
      }
    },
    {
      "cell_type": "code",
      "source": [
        "X = data.drop(['disposition'],axis=1)\n",
        "y = data.disposition.values "
      ],
      "metadata": {
        "id": "FFLmNJvLSCQu"
      },
      "execution_count": null,
      "outputs": []
    },
    {
      "cell_type": "code",
      "source": [
        "from sklearn.feature_selection import mutual_info_classif, mutual_info_regression\n",
        "from sklearn.feature_selection import SelectKBest, SelectPercentile"
      ],
      "metadata": {
        "id": "IFJAiKDXSKFI"
      },
      "execution_count": null,
      "outputs": []
    },
    {
      "cell_type": "code",
      "source": [
        "X_train, X_test, y_train, y_test = train_test_split(X, y, test_size=0.3, random_state=101)"
      ],
      "metadata": {
        "id": "4lgXKuNwSVTM"
      },
      "execution_count": null,
      "outputs": []
    },
    {
      "cell_type": "code",
      "source": [
        "# Calculate Mutual Information between each feature and the target\n",
        "mutual_info = mutual_info_classif(X_train, y_train)\n",
        "mutual_info"
      ],
      "metadata": {
        "colab": {
          "base_uri": "https://localhost:8080/"
        },
        "id": "v383IChiSZPq",
        "outputId": "1b342eee-cb22-488f-b183-f60e740d4acc"
      },
      "execution_count": null,
      "outputs": [
        {
          "output_type": "execute_result",
          "data": {
            "text/plain": [
              "array([0.13799379, 0.05581437, 0.0136452 , 0.01794556, 0.02873943,\n",
              "       0.05426666, 0.05493129, 0.00390454, 0.02608864, 0.00063327,\n",
              "       0.05962577, 0.00827046, 0.00047719, 0.00148775, 0.01612837,\n",
              "       0.0383291 , 0.01583108, 0.02772766, 0.00086763, 0.01056406,\n",
              "       0.        , 0.00957279, 0.03597448, 0.0003806 , 0.00189073,\n",
              "       0.00593777, 0.00412175, 0.05405795, 0.00353474, 0.00681884,\n",
              "       0.00061581, 0.        , 0.05047477, 0.10466172, 0.03139627,\n",
              "       0.00431637, 0.0012592 , 0.00575042, 0.00533434, 0.04900372,\n",
              "       0.02295217, 0.05176707, 0.09638476, 0.00323787, 0.01923799,\n",
              "       0.00291455, 0.00102862, 0.01184621, 0.00631368, 0.        ,\n",
              "       0.05488734, 0.00697843, 0.01249557, 0.00237471, 0.02324737,\n",
              "       0.02821821, 0.06691316, 0.01585867])"
            ]
          },
          "metadata": {},
          "execution_count": 67
        }
      ]
    },
    {
      "cell_type": "code",
      "source": [
        "# Create Feature Target Mutual Information Series\n",
        "mi_series = pd.Series(mutual_info)\n",
        "mi_series.index = X_train.columns\n",
        "mi_series.sort_values(ascending=False)"
      ],
      "metadata": {
        "colab": {
          "base_uri": "https://localhost:8080/"
        },
        "id": "bC-xutIoSd84",
        "outputId": "6965a7f5-3004-403e-9a13-d479d99f0716"
      },
      "execution_count": null,
      "outputs": [
        {
          "output_type": "execute_result",
          "data": {
            "text/plain": [
              "esi                                                   0.137994\n",
              "meds_cardiovascular                                   0.104662\n",
              "meds_gastrointestinal                                 0.096385\n",
              "meds_vitamins                                         0.066913\n",
              "meds_analgesics                                       0.059626\n",
              "age                                                   0.055814\n",
              "previousdispo                                         0.054931\n",
              "meds_psychotherapeuticdrugs                           0.054887\n",
              "insurance_status                                      0.054267\n",
              "meds_antiplateletdrugs                                0.054058\n",
              "meds_elect/caloric/h2o                                0.051767\n",
              "meds_cardiacdrugs                                     0.050475\n",
              "meds_diuretics                                        0.049004\n",
              "meds_antiasthmatics                                   0.038329\n",
              "meds_antihyperglycemics                               0.035974\n",
              "meds_cnsdrugs                                         0.031396\n",
              "maritalstatus                                         0.028739\n",
              "meds_unclassifieddrugproducts                         0.028218\n",
              "meds_anticoagulants                                   0.027728\n",
              "n_admissions                                          0.026089\n",
              "meds_thyroidpreps                                     0.023247\n",
              "meds_eentpreps                                        0.022952\n",
              "meds_hormones                                         0.019238\n",
              "religion                                              0.017946\n",
              "meds_antiarthritics                                   0.016128\n",
              "n_surgeries                                           0.015859\n",
              "meds_antibiotics                                      0.015831\n",
              "gender                                                0.013645\n",
              "meds_skinpreps                                        0.012496\n",
              "meds_miscellaneousmedicalsupplies,devices,non-drug    0.011846\n",
              "meds_antifungals                                      0.010564\n",
              "meds_antihistamines                                   0.009573\n",
              "meds_anesthetics                                      0.008270\n",
              "meds_sedative/hypnotics                               0.006978\n",
              "meds_autonomicdrugs                                   0.006819\n",
              "meds_musclerelaxants                                  0.006314\n",
              "meds_antineoplastics                                  0.005938\n",
              "meds_cough/coldpreparations                           0.005750\n",
              "meds_diagnostic                                       0.005334\n",
              "meds_colonystimulatingfactors                         0.004316\n",
              "meds_antiparkinsondrugs                               0.004122\n",
              "n_edvisits                                            0.003905\n",
              "meds_antivirals                                       0.003535\n",
              "meds_herbals                                          0.003238\n",
              "meds_immunosuppressants                               0.002915\n",
              "meds_smokingdeterrents                                0.002375\n",
              "meds_antiinfectives/miscellaneous                     0.001891\n",
              "meds_antiallergy                                      0.001488\n",
              "meds_contraceptives                                   0.001259\n",
              "meds_investigational                                  0.001029\n",
              "meds_antidotes                                        0.000868\n",
              "meds_analgesicandantihistaminecombination             0.000633\n",
              "meds_biologicals                                      0.000616\n",
              "meds_anti-obesitydrugs                                0.000477\n",
              "meds_antiinfectives                                   0.000381\n",
              "meds_blood                                            0.000000\n",
              "meds_antihistamineanddecongestantcombination          0.000000\n",
              "meds_pre-natalvitamins                                0.000000\n",
              "dtype: float64"
            ]
          },
          "metadata": {},
          "execution_count": 68
        }
      ]
    },
    {
      "cell_type": "code",
      "source": [
        "mi_series.sort_values(ascending=False).plot.bar(figsize=(20,8))"
      ],
      "metadata": {
        "colab": {
          "base_uri": "https://localhost:8080/",
          "height": 764
        },
        "id": "AWcA0AWGUMQd",
        "outputId": "204a2296-7bab-43d2-ad22-0c484b3f248a"
      },
      "execution_count": null,
      "outputs": [
        {
          "output_type": "execute_result",
          "data": {
            "text/plain": [
              "<matplotlib.axes._subplots.AxesSubplot at 0x7f5db4631b90>"
            ]
          },
          "metadata": {},
          "execution_count": 55
        },
        {
          "output_type": "display_data",
          "data": {
            "text/plain": [
              "<Figure size 1440x576 with 1 Axes>"
            ],
            "image/png": "[encoded data removed]"
          },
          "metadata": {
            "needs_background": "light"
          }
        }
      ]
    },
    {
      "cell_type": "code",
      "source": [
        "k_best_features = SelectKBest(mutual_info_classif, k=10).fit(X_train, y_train)\n",
        "print('Selected top 10 features: {}'.format(X_train.columns[k_best_features.get_support()]))"
      ],
      "metadata": {
        "colab": {
          "base_uri": "https://localhost:8080/"
        },
        "id": "G0IuHX09UaIG",
        "outputId": "bbb26454-d6b4-4794-bafe-1dfd73aa564a"
      },
      "execution_count": null,
      "outputs": [
        {
          "output_type": "stream",
          "name": "stdout",
          "text": [
            "Selected top 10 features: Index(['esi', 'age', 'insurance_status', 'previousdispo', 'meds_analgesics',\n",
            "       'meds_antiplateletdrugs', 'meds_cardiovascular',\n",
            "       'meds_gastrointestinal', 'meds_psychotherapeuticdrugs',\n",
            "       'meds_vitamins'],\n",
            "      dtype='object')\n"
          ]
        }
      ]
    },
    {
      "cell_type": "code",
      "source": [
        "X_n = data[['esi', 'age', 'insurance_status', 'previousdispo', 'meds_analgesics',\n",
        "       'meds_antiplateletdrugs', 'meds_cardiovascular',\n",
        "       'meds_gastrointestinal', 'meds_psychotherapeuticdrugs',\n",
        "       'meds_vitamins']]"
      ],
      "metadata": {
        "id": "7kehJ8sxUjuN"
      },
      "execution_count": null,
      "outputs": []
    },
    {
      "cell_type": "code",
      "source": [
        "X_train, X_test, y_train, y_test = train_test_split(X_n, y, test_size=0.2, random_state=101)"
      ],
      "metadata": {
        "id": "K4Gv2OHcWhrA"
      },
      "execution_count": null,
      "outputs": []
    },
    {
      "cell_type": "code",
      "source": [
        "from sklearn.ensemble import RandomForestClassifier\n",
        "RFC = RandomForestClassifier()\n",
        "RFC.fit(X_train, y_train)\n",
        "print('Accuracy of Random Forest Classifier on training set: {:.5f}'.format(RFC.score(X_train, y_train)))\n",
        "print('Accuracy of Random Forest Classifier on test set: {:.5f}'.format(RFC.score(X_test, y_test)))"
      ],
      "metadata": {
        "colab": {
          "base_uri": "https://localhost:8080/"
        },
        "id": "W7qK8o_VVP8w",
        "outputId": "cecf7814-d1c2-4724-9454-81ec677d5689"
      },
      "execution_count": null,
      "outputs": [
        {
          "output_type": "stream",
          "name": "stdout",
          "text": [
            "Accuracy of Random Forest Classifier on training set: 0.85940\n",
            "Accuracy of Random Forest Classifier on test set: 0.81590\n"
          ]
        }
      ]
    },
    {
      "cell_type": "code",
      "source": [
        ""
      ],
      "metadata": {
        "id": "1SpXuLeRfLCU"
      },
      "execution_count": null,
      "outputs": []
    }
  ]
}